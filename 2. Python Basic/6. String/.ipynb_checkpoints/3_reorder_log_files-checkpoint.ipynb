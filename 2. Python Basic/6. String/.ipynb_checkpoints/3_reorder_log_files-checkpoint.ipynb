{
 "cells": [
  {
   "cell_type": "code",
   "execution_count": 1,
   "metadata": {},
   "outputs": [],
   "source": [
    "logs = [\"dig1 8 1 5 1\",\"let1 art can\",\"dig2 3 6\",\"let2 own kit dig\",\"let3 art zero\"]"
   ]
  },
  {
   "cell_type": "code",
   "execution_count": 3,
   "metadata": {},
   "outputs": [
    {
     "name": "stdout",
     "output_type": "stream",
     "text": [
      "['let1 art can', 'let3 art zero', 'let2 own kit dig', 'dig1 8 1 5 1', 'dig2 3 6']\n"
     ]
    }
   ],
   "source": [
    "# my code\n",
    "lets = []\n",
    "digs = []\n",
    "for log in logs:\n",
    "    if log[-1].isalpha():\n",
    "        lets.append(log)\n",
    "    else:\n",
    "        digs.append(log)\n",
    "\n",
    "lets = sorted(lets, key=lambda x: (x.split()[1:], x.split()[0]))\n",
    "print(lets + digs)"
   ]
  },
  {
   "cell_type": "code",
   "execution_count": 5,
   "metadata": {},
   "outputs": [
    {
     "name": "stdout",
     "output_type": "stream",
     "text": [
      "['let1 art can', 'let3 art zero', 'let2 own kit dig', 'dig1 8 1 5 1', 'dig2 3 6']\n"
     ]
    }
   ],
   "source": [
    "# book code\n",
    "lets, digs = [], []\n",
    "for log in logs:\n",
    "    if log.split()[1].isdigit():\n",
    "        digs.append(log)\n",
    "    else:\n",
    "        lets.append(log)\n",
    "\n",
    "lets.sort(key=lambda x: (x.split()[1:], x.split()[0]))\n",
    "print(lets + digs)"
   ]
  },
  {
   "cell_type": "code",
   "execution_count": null,
   "metadata": {},
   "outputs": [],
   "source": []
  }
 ],
 "metadata": {
  "kernelspec": {
   "display_name": "Python 3",
   "language": "python",
   "name": "python3"
  },
  "language_info": {
   "codemirror_mode": {
    "name": "ipython",
    "version": 3
   },
   "file_extension": ".py",
   "mimetype": "text/x-python",
   "name": "python",
   "nbconvert_exporter": "python",
   "pygments_lexer": "ipython3",
   "version": "3.8.3"
  }
 },
 "nbformat": 4,
 "nbformat_minor": 4
}
