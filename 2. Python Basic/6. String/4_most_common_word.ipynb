{
 "cells": [
  {
   "cell_type": "code",
   "execution_count": 9,
   "metadata": {},
   "outputs": [],
   "source": [
    "# paragraph = \"Bob hit a ball, the hit BALL flew far after it was hit.\"\n",
    "paragraph = \"a, a, a, a, b,b,b,c, c\"\n",
    "\n",
    "# banned = [\"hit\"]\n",
    "banned = [\"a\"]\n",
    "\n",
    "import re\n",
    "from collections import Counter"
   ]
  },
  {
   "cell_type": "code",
   "execution_count": 10,
   "metadata": {},
   "outputs": [
    {
     "name": "stdout",
     "output_type": "stream",
     "text": [
      "b\n"
     ]
    }
   ],
   "source": [
    "# my code\n",
    "par = paragraph.lower()\n",
    "p = re.compile(\"[a-z]+\")\n",
    "par = p.findall(par)\n",
    "par = Counter(par)\n",
    "freq = [(k, v) for k, v in par.items() if k not in banned]\n",
    "freq.sort(key = lambda x: -x[1])\n",
    "\n",
    "print(freq[0][0])"
   ]
  },
  {
   "cell_type": "code",
   "execution_count": 8,
   "metadata": {},
   "outputs": [
    {
     "name": "stdout",
     "output_type": "stream",
     "text": [
      "ball\n"
     ]
    }
   ],
   "source": [
    "# book code\n",
    "par = [word for word in re.sub(\"[^\\w]\", ' ', paragraph).lower().split() if word not in banned]\n",
    "counts = Counter(par)\n",
    "print(counts.most_common(1)[0][0])"
   ]
  },
  {
   "cell_type": "code",
   "execution_count": null,
   "metadata": {},
   "outputs": [],
   "source": []
  }
 ],
 "metadata": {
  "kernelspec": {
   "display_name": "Python 3",
   "language": "python",
   "name": "python3"
  },
  "language_info": {
   "codemirror_mode": {
    "name": "ipython",
    "version": 3
   },
   "file_extension": ".py",
   "mimetype": "text/x-python",
   "name": "python",
   "nbconvert_exporter": "python",
   "pygments_lexer": "ipython3",
   "version": "3.8.3"
  }
 },
 "nbformat": 4,
 "nbformat_minor": 4
}
